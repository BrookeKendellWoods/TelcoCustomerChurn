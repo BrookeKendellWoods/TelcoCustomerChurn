{
 "cells": [
  {
   "cell_type": "code",
   "execution_count": 2,
   "metadata": {},
   "outputs": [],
   "source": [
    "# Helper Libraries\n",
    "\n",
    "import pandas as pd\n",
    "import numpy as np\n",
    "import os"
   ]
  },
  {
   "cell_type": "code",
   "execution_count": 3,
   "metadata": {},
   "outputs": [],
   "source": [
    "os.chdir('C:\\\\Users\\\\18174\\\\OneDrive - UNT System\\\\projectdata')"
   ]
  },
  {
   "cell_type": "code",
   "execution_count": 4,
   "metadata": {},
   "outputs": [
    {
     "data": {
      "text/plain": [
       "['.ipynb_checkpoints',\n",
       " 'Churn Project - Clean and Histograms (1).ipynb',\n",
       " 'Churn Project - Clean and Histograms.ipynb',\n",
       " 'Churn Project - Histograms (1).ipynb',\n",
       " 'Churn Project - Histograms For Churned Customers Only.ipynb',\n",
       " 'Data Cleaning and Initial Exploration.ipynb',\n",
       " 'DataSciencePractice.ipynb',\n",
       " 'mapit',\n",
       " 'Multi-QueueProblem-Brooke',\n",
       " 'mysaveddesign2.sas7bdat',\n",
       " 'PracticeGuessingGame.ipynb',\n",
       " 'project.ipynb',\n",
       " 'ProjectAttempt.ipynb',\n",
       " 'ProjectPractice.ipynb',\n",
       " 'Support Vector Classifier.ipynb',\n",
       " 'Untitled.ipynb',\n",
       " 'Untitled1.ipynb',\n",
       " 'Untitled10.ipynb',\n",
       " 'Untitled11.ipynb',\n",
       " 'Untitled2.ipynb',\n",
       " 'Untitled3.ipynb',\n",
       " 'Untitled4.ipynb',\n",
       " 'Untitled5.ipynb',\n",
       " 'Untitled6.ipynb',\n",
       " 'Untitled7.ipynb',\n",
       " 'Untitled8.ipynb',\n",
       " 'WA_Fn-UseC_-Telco-Customer-Churn - Shortcut.lnk',\n",
       " 'WA_Fn-UseC_-Telco-Customer-Churn.csv']"
      ]
     },
     "execution_count": 4,
     "metadata": {},
     "output_type": "execute_result"
    }
   ],
   "source": [
    "# Check for the dataset in the directory\n",
    "\n",
    "os.listdir()"
   ]
  },
  {
   "cell_type": "code",
   "execution_count": 5,
   "metadata": {},
   "outputs": [
    {
     "data": {
      "text/html": [
       "<div>\n",
       "<style scoped>\n",
       "    .dataframe tbody tr th:only-of-type {\n",
       "        vertical-align: middle;\n",
       "    }\n",
       "\n",
       "    .dataframe tbody tr th {\n",
       "        vertical-align: top;\n",
       "    }\n",
       "\n",
       "    .dataframe thead th {\n",
       "        text-align: right;\n",
       "    }\n",
       "</style>\n",
       "<table border=\"1\" class=\"dataframe\">\n",
       "  <thead>\n",
       "    <tr style=\"text-align: right;\">\n",
       "      <th></th>\n",
       "      <th>customerID</th>\n",
       "      <th>gender</th>\n",
       "      <th>SeniorCitizen</th>\n",
       "      <th>Partner</th>\n",
       "      <th>Dependents</th>\n",
       "      <th>tenure</th>\n",
       "      <th>PhoneService</th>\n",
       "      <th>MultipleLines</th>\n",
       "      <th>InternetService</th>\n",
       "      <th>OnlineSecurity</th>\n",
       "      <th>...</th>\n",
       "      <th>DeviceProtection</th>\n",
       "      <th>TechSupport</th>\n",
       "      <th>StreamingTV</th>\n",
       "      <th>StreamingMovies</th>\n",
       "      <th>Contract</th>\n",
       "      <th>PaperlessBilling</th>\n",
       "      <th>PaymentMethod</th>\n",
       "      <th>MonthlyCharges</th>\n",
       "      <th>TotalCharges</th>\n",
       "      <th>Churn</th>\n",
       "    </tr>\n",
       "  </thead>\n",
       "  <tbody>\n",
       "    <tr>\n",
       "      <th>0</th>\n",
       "      <td>7590-VHVEG</td>\n",
       "      <td>Female</td>\n",
       "      <td>0</td>\n",
       "      <td>Yes</td>\n",
       "      <td>No</td>\n",
       "      <td>1</td>\n",
       "      <td>No</td>\n",
       "      <td>No phone service</td>\n",
       "      <td>DSL</td>\n",
       "      <td>No</td>\n",
       "      <td>...</td>\n",
       "      <td>No</td>\n",
       "      <td>No</td>\n",
       "      <td>No</td>\n",
       "      <td>No</td>\n",
       "      <td>Month-to-month</td>\n",
       "      <td>Yes</td>\n",
       "      <td>Electronic check</td>\n",
       "      <td>29.85</td>\n",
       "      <td>29.85</td>\n",
       "      <td>No</td>\n",
       "    </tr>\n",
       "    <tr>\n",
       "      <th>1</th>\n",
       "      <td>5575-GNVDE</td>\n",
       "      <td>Male</td>\n",
       "      <td>0</td>\n",
       "      <td>No</td>\n",
       "      <td>No</td>\n",
       "      <td>34</td>\n",
       "      <td>Yes</td>\n",
       "      <td>No</td>\n",
       "      <td>DSL</td>\n",
       "      <td>Yes</td>\n",
       "      <td>...</td>\n",
       "      <td>Yes</td>\n",
       "      <td>No</td>\n",
       "      <td>No</td>\n",
       "      <td>No</td>\n",
       "      <td>One year</td>\n",
       "      <td>No</td>\n",
       "      <td>Mailed check</td>\n",
       "      <td>56.95</td>\n",
       "      <td>1889.50</td>\n",
       "      <td>No</td>\n",
       "    </tr>\n",
       "    <tr>\n",
       "      <th>2</th>\n",
       "      <td>3668-QPYBK</td>\n",
       "      <td>Male</td>\n",
       "      <td>0</td>\n",
       "      <td>No</td>\n",
       "      <td>No</td>\n",
       "      <td>2</td>\n",
       "      <td>Yes</td>\n",
       "      <td>No</td>\n",
       "      <td>DSL</td>\n",
       "      <td>Yes</td>\n",
       "      <td>...</td>\n",
       "      <td>No</td>\n",
       "      <td>No</td>\n",
       "      <td>No</td>\n",
       "      <td>No</td>\n",
       "      <td>Month-to-month</td>\n",
       "      <td>Yes</td>\n",
       "      <td>Mailed check</td>\n",
       "      <td>53.85</td>\n",
       "      <td>108.15</td>\n",
       "      <td>Yes</td>\n",
       "    </tr>\n",
       "    <tr>\n",
       "      <th>3</th>\n",
       "      <td>7795-CFOCW</td>\n",
       "      <td>Male</td>\n",
       "      <td>0</td>\n",
       "      <td>No</td>\n",
       "      <td>No</td>\n",
       "      <td>45</td>\n",
       "      <td>No</td>\n",
       "      <td>No phone service</td>\n",
       "      <td>DSL</td>\n",
       "      <td>Yes</td>\n",
       "      <td>...</td>\n",
       "      <td>Yes</td>\n",
       "      <td>Yes</td>\n",
       "      <td>No</td>\n",
       "      <td>No</td>\n",
       "      <td>One year</td>\n",
       "      <td>No</td>\n",
       "      <td>Bank transfer (automatic)</td>\n",
       "      <td>42.30</td>\n",
       "      <td>1840.75</td>\n",
       "      <td>No</td>\n",
       "    </tr>\n",
       "    <tr>\n",
       "      <th>4</th>\n",
       "      <td>9237-HQITU</td>\n",
       "      <td>Female</td>\n",
       "      <td>0</td>\n",
       "      <td>No</td>\n",
       "      <td>No</td>\n",
       "      <td>2</td>\n",
       "      <td>Yes</td>\n",
       "      <td>No</td>\n",
       "      <td>Fiber optic</td>\n",
       "      <td>No</td>\n",
       "      <td>...</td>\n",
       "      <td>No</td>\n",
       "      <td>No</td>\n",
       "      <td>No</td>\n",
       "      <td>No</td>\n",
       "      <td>Month-to-month</td>\n",
       "      <td>Yes</td>\n",
       "      <td>Electronic check</td>\n",
       "      <td>70.70</td>\n",
       "      <td>151.65</td>\n",
       "      <td>Yes</td>\n",
       "    </tr>\n",
       "  </tbody>\n",
       "</table>\n",
       "<p>5 rows × 21 columns</p>\n",
       "</div>"
      ],
      "text/plain": [
       "   customerID  gender  SeniorCitizen Partner Dependents  tenure PhoneService  \\\n",
       "0  7590-VHVEG  Female              0     Yes         No       1           No   \n",
       "1  5575-GNVDE    Male              0      No         No      34          Yes   \n",
       "2  3668-QPYBK    Male              0      No         No       2          Yes   \n",
       "3  7795-CFOCW    Male              0      No         No      45           No   \n",
       "4  9237-HQITU  Female              0      No         No       2          Yes   \n",
       "\n",
       "      MultipleLines InternetService OnlineSecurity  ... DeviceProtection  \\\n",
       "0  No phone service             DSL             No  ...               No   \n",
       "1                No             DSL            Yes  ...              Yes   \n",
       "2                No             DSL            Yes  ...               No   \n",
       "3  No phone service             DSL            Yes  ...              Yes   \n",
       "4                No     Fiber optic             No  ...               No   \n",
       "\n",
       "  TechSupport StreamingTV StreamingMovies        Contract PaperlessBilling  \\\n",
       "0          No          No              No  Month-to-month              Yes   \n",
       "1          No          No              No        One year               No   \n",
       "2          No          No              No  Month-to-month              Yes   \n",
       "3         Yes          No              No        One year               No   \n",
       "4          No          No              No  Month-to-month              Yes   \n",
       "\n",
       "               PaymentMethod MonthlyCharges  TotalCharges  Churn  \n",
       "0           Electronic check          29.85         29.85     No  \n",
       "1               Mailed check          56.95       1889.50     No  \n",
       "2               Mailed check          53.85        108.15    Yes  \n",
       "3  Bank transfer (automatic)          42.30       1840.75     No  \n",
       "4           Electronic check          70.70        151.65    Yes  \n",
       "\n",
       "[5 rows x 21 columns]"
      ]
     },
     "execution_count": 5,
     "metadata": {},
     "output_type": "execute_result"
    }
   ],
   "source": [
    "# Pull the churn dataset into a dataframe and print the dataframe\n",
    "\n",
    "churnDataFrame = pd.read_csv(r'WA_Fn-UseC_-Telco-Customer-Churn.csv',skipinitialspace=True)\n",
    "churnDataFrame.head()"
   ]
  },
  {
   "cell_type": "code",
   "execution_count": 6,
   "metadata": {},
   "outputs": [
    {
     "data": {
      "text/plain": [
       "'tenure'"
      ]
     },
     "execution_count": 6,
     "metadata": {},
     "output_type": "execute_result"
    }
   ],
   "source": [
    "max(churnDataFrame)"
   ]
  },
  {
   "cell_type": "code",
   "execution_count": 7,
   "metadata": {},
   "outputs": [
    {
     "data": {
      "text/plain": [
       "'Churn'"
      ]
     },
     "execution_count": 7,
     "metadata": {},
     "output_type": "execute_result"
    }
   ],
   "source": [
    "min(churnDataFrame)"
   ]
  },
  {
   "cell_type": "code",
   "execution_count": 37,
   "metadata": {},
   "outputs": [
    {
     "data": {
      "text/plain": [
       "customerID          False\n",
       "gender              False\n",
       "SeniorCitizen       False\n",
       "Partner             False\n",
       "Dependents          False\n",
       "tenure              False\n",
       "PhoneService        False\n",
       "MultipleLines       False\n",
       "InternetService     False\n",
       "OnlineSecurity      False\n",
       "OnlineBackup        False\n",
       "DeviceProtection    False\n",
       "TechSupport         False\n",
       "StreamingTV         False\n",
       "StreamingMovies     False\n",
       "Contract            False\n",
       "PaperlessBilling    False\n",
       "PaymentMethod       False\n",
       "MonthlyCharges      False\n",
       "TotalCharges         True\n",
       "Churn               False\n",
       "dtype: bool"
      ]
     },
     "execution_count": 37,
     "metadata": {},
     "output_type": "execute_result"
    }
   ],
   "source": [
    "#check for attributes with missing values\n",
    "churnDataFrame.isnull().any()"
   ]
  },
  {
   "cell_type": "code",
   "execution_count": null,
   "metadata": {},
   "outputs": [],
   "source": []
  },
  {
   "cell_type": "code",
   "execution_count": 38,
   "metadata": {},
   "outputs": [
    {
     "data": {
      "text/plain": [
       "customerID                         4472-LVYGI\n",
       "gender                                 Female\n",
       "SeniorCitizen                               0\n",
       "Partner                                   Yes\n",
       "Dependents                                Yes\n",
       "tenure                                      0\n",
       "PhoneService                               No\n",
       "MultipleLines                No phone service\n",
       "InternetService                           DSL\n",
       "OnlineSecurity                            Yes\n",
       "OnlineBackup                               No\n",
       "DeviceProtection                          Yes\n",
       "TechSupport                               Yes\n",
       "StreamingTV                               Yes\n",
       "StreamingMovies                            No\n",
       "Contract                             Two year\n",
       "PaperlessBilling                          Yes\n",
       "PaymentMethod       Bank transfer (automatic)\n",
       "MonthlyCharges                          52.55\n",
       "TotalCharges                              NaN\n",
       "Churn                                      No\n",
       "Name: 488, dtype: object"
      ]
     },
     "execution_count": 38,
     "metadata": {},
     "output_type": "execute_result"
    }
   ],
   "source": [
    "#example record with missing value \n",
    "churnDataFrame.iloc[488]"
   ]
  },
  {
   "cell_type": "code",
   "execution_count": 39,
   "metadata": {},
   "outputs": [],
   "source": []
  },
  {
   "cell_type": "code",
   "execution_count": 8,
   "metadata": {},
   "outputs": [],
   "source": [
    "churnDataFrame['TotalCharges']=churnDataFrame['TotalCharges'].fillna(value=0)"
   ]
  },
  {
   "cell_type": "code",
   "execution_count": 12,
   "metadata": {},
   "outputs": [
    {
     "data": {
      "text/plain": [
       "customerID                         4472-LVYGI\n",
       "gender                                 Female\n",
       "SeniorCitizen                               0\n",
       "Partner                                   Yes\n",
       "Dependents                                Yes\n",
       "tenure                                      0\n",
       "PhoneService                               No\n",
       "MultipleLines                No phone service\n",
       "InternetService                           DSL\n",
       "OnlineSecurity                            Yes\n",
       "OnlineBackup                               No\n",
       "DeviceProtection                          Yes\n",
       "TechSupport                               Yes\n",
       "StreamingTV                               Yes\n",
       "StreamingMovies                            No\n",
       "Contract                             Two year\n",
       "PaperlessBilling                          Yes\n",
       "PaymentMethod       Bank transfer (automatic)\n",
       "MonthlyCharges                          52.55\n",
       "TotalCharges                                0\n",
       "Churn                                      No\n",
       "Name: 488, dtype: object"
      ]
     },
     "execution_count": 12,
     "metadata": {},
     "output_type": "execute_result"
    }
   ],
   "source": [
    "#validation for imputation \n",
    "churnDataFrame.iloc[488]"
   ]
  },
  {
   "cell_type": "code",
   "execution_count": 41,
   "metadata": {},
   "outputs": [
    {
     "name": "stdout",
     "output_type": "stream",
     "text": [
      "      Partner_No  Partner_Yes\n",
      "0              0            1\n",
      "1              1            0\n",
      "2              1            0\n",
      "3              1            0\n",
      "4              1            0\n",
      "...          ...          ...\n",
      "7038           0            1\n",
      "7039           0            1\n",
      "7040           0            1\n",
      "7041           0            1\n",
      "7042           1            0\n",
      "\n",
      "[7043 rows x 2 columns]\n",
      "      Gender_Female  Gender_Male\n",
      "0                 1            0\n",
      "1                 0            1\n",
      "2                 0            1\n",
      "3                 0            1\n",
      "4                 1            0\n",
      "...             ...          ...\n",
      "7038              0            1\n",
      "7039              1            0\n",
      "7040              1            0\n",
      "7041              0            1\n",
      "7042              0            1\n",
      "\n",
      "[7043 rows x 2 columns]\n",
      "      Dependents_No  Dependents_Yes\n",
      "0                 1               0\n",
      "1                 1               0\n",
      "2                 1               0\n",
      "3                 1               0\n",
      "4                 1               0\n",
      "...             ...             ...\n",
      "7038              0               1\n",
      "7039              0               1\n",
      "7040              0               1\n",
      "7041              1               0\n",
      "7042              1               0\n",
      "\n",
      "[7043 rows x 2 columns]\n",
      "      PhoneServices_No  PhoneServices_Yes\n",
      "0                    1                  0\n",
      "1                    0                  1\n",
      "2                    0                  1\n",
      "3                    1                  0\n",
      "4                    0                  1\n",
      "...                ...                ...\n",
      "7038                 0                  1\n",
      "7039                 0                  1\n",
      "7040                 1                  0\n",
      "7041                 0                  1\n",
      "7042                 0                  1\n",
      "\n",
      "[7043 rows x 2 columns]\n",
      "      PaperlessBilling_No  PaperlessBilling_Yes\n",
      "0                       0                     1\n",
      "1                       1                     0\n",
      "2                       0                     1\n",
      "3                       1                     0\n",
      "4                       0                     1\n",
      "...                   ...                   ...\n",
      "7038                    0                     1\n",
      "7039                    0                     1\n",
      "7040                    0                     1\n",
      "7041                    0                     1\n",
      "7042                    0                     1\n",
      "\n",
      "[7043 rows x 2 columns]\n",
      "      Churn_No  Churn_Yes\n",
      "0            1          0\n",
      "1            1          0\n",
      "2            0          1\n",
      "3            1          0\n",
      "4            0          1\n",
      "...        ...        ...\n",
      "7038         1          0\n",
      "7039         1          0\n",
      "7040         1          0\n",
      "7041         0          1\n",
      "7042         1          0\n",
      "\n",
      "[7043 rows x 2 columns]\n",
      "      SeniorCitizen_0  SeniorCitizen_1\n",
      "0                   1                0\n",
      "1                   1                0\n",
      "2                   1                0\n",
      "3                   1                0\n",
      "4                   1                0\n",
      "...               ...              ...\n",
      "7038                1                0\n",
      "7039                1                0\n",
      "7040                1                0\n",
      "7041                0                1\n",
      "7042                1                0\n",
      "\n",
      "[7043 rows x 2 columns]\n"
     ]
    }
   ],
   "source": [
    "# Column conversion to boolean \n",
    "# No dimensional increase by dropping the 'no' column \n",
    "\n",
    "Partner = pd.get_dummies(churnDataFrame.Partner,prefix='Partner', drop_first = False)\n",
    "\n",
    "Gender = pd.get_dummies(churnDataFrame.gender,prefix='Gender', drop_first = False)\n",
    "\n",
    "Dependents = pd.get_dummies(churnDataFrame.Dependents,prefix='Dependents', drop_first = False)\n",
    "\n",
    "PhoneService = pd.get_dummies(churnDataFrame.PhoneService,prefix='PhoneServices', drop_first = False)\n",
    "\n",
    "PaperlessBilling = pd.get_dummies(churnDataFrame.PaperlessBilling,prefix='PaperlessBilling', drop_first = False)\n",
    "\n",
    "Churn = pd.get_dummies(churnDataFrame.Churn,prefix='Churn', drop_first = False)\n",
    "\n",
    "SeniorCitizen = pd.get_dummies(churnDataFrame.SeniorCitizen,prefix='SeniorCitizen', drop_first = False)\n",
    "\n",
    "print(Partner)\n",
    "print(Gender)\n",
    "print(Dependents)\n",
    "print(PhoneService)\n",
    "print(PaperlessBilling)\n",
    "print(Churn)\n",
    "print(SeniorCitizen)"
   ]
  },
  {
   "cell_type": "code",
   "execution_count": 14,
   "metadata": {},
   "outputs": [],
   "source": [
    "Partner = pd.get_dummies(churnDataFrame.Partner,prefix='Partner', drop_first = False)\n"
   ]
  },
  {
   "cell_type": "code",
   "execution_count": 15,
   "metadata": {},
   "outputs": [
    {
     "name": "stdout",
     "output_type": "stream",
     "text": [
      "      MultipleLines_No  MultipleLines_No phone service  MultipleLines_Yes\n",
      "0                    0                               1                  0\n",
      "1                    1                               0                  0\n",
      "2                    1                               0                  0\n",
      "3                    0                               1                  0\n",
      "4                    1                               0                  0\n",
      "...                ...                             ...                ...\n",
      "7038                 0                               0                  1\n",
      "7039                 0                               0                  1\n",
      "7040                 0                               1                  0\n",
      "7041                 0                               0                  1\n",
      "7042                 1                               0                  0\n",
      "\n",
      "[7043 rows x 3 columns]\n",
      "      InternetService_DSL  InternetService_Fiber optic  InternetService_No\n",
      "0                       1                            0                   0\n",
      "1                       1                            0                   0\n",
      "2                       1                            0                   0\n",
      "3                       1                            0                   0\n",
      "4                       0                            1                   0\n",
      "...                   ...                          ...                 ...\n",
      "7038                    1                            0                   0\n",
      "7039                    0                            1                   0\n",
      "7040                    1                            0                   0\n",
      "7041                    0                            1                   0\n",
      "7042                    0                            1                   0\n",
      "\n",
      "[7043 rows x 3 columns]\n",
      "      OnlineSecurity_No  OnlineSecurity_No internet service  \\\n",
      "0                     1                                   0   \n",
      "1                     0                                   0   \n",
      "2                     0                                   0   \n",
      "3                     0                                   0   \n",
      "4                     1                                   0   \n",
      "...                 ...                                 ...   \n",
      "7038                  0                                   0   \n",
      "7039                  1                                   0   \n",
      "7040                  0                                   0   \n",
      "7041                  1                                   0   \n",
      "7042                  0                                   0   \n",
      "\n",
      "      OnlineSecurity_Yes  \n",
      "0                      0  \n",
      "1                      1  \n",
      "2                      1  \n",
      "3                      1  \n",
      "4                      0  \n",
      "...                  ...  \n",
      "7038                   1  \n",
      "7039                   0  \n",
      "7040                   1  \n",
      "7041                   0  \n",
      "7042                   1  \n",
      "\n",
      "[7043 rows x 3 columns]\n",
      "      OnlineBackup_No  OnlineBackup_No internet service  OnlineBackup_Yes\n",
      "0                   0                                 0                 1\n",
      "1                   1                                 0                 0\n",
      "2                   0                                 0                 1\n",
      "3                   1                                 0                 0\n",
      "4                   1                                 0                 0\n",
      "...               ...                               ...               ...\n",
      "7038                1                                 0                 0\n",
      "7039                0                                 0                 1\n",
      "7040                1                                 0                 0\n",
      "7041                1                                 0                 0\n",
      "7042                1                                 0                 0\n",
      "\n",
      "[7043 rows x 3 columns]\n",
      "      DeviceProtection_No  DeviceProtection_No internet service  \\\n",
      "0                       1                                     0   \n",
      "1                       0                                     0   \n",
      "2                       1                                     0   \n",
      "3                       0                                     0   \n",
      "4                       1                                     0   \n",
      "...                   ...                                   ...   \n",
      "7038                    0                                     0   \n",
      "7039                    0                                     0   \n",
      "7040                    1                                     0   \n",
      "7041                    1                                     0   \n",
      "7042                    0                                     0   \n",
      "\n",
      "      DeviceProtection_Yes  \n",
      "0                        0  \n",
      "1                        1  \n",
      "2                        0  \n",
      "3                        1  \n",
      "4                        0  \n",
      "...                    ...  \n",
      "7038                     1  \n",
      "7039                     1  \n",
      "7040                     0  \n",
      "7041                     0  \n",
      "7042                     1  \n",
      "\n",
      "[7043 rows x 3 columns]\n",
      "      TechSupport_No  TechSupport_No internet service  TechSupport_Yes\n",
      "0                  1                                0                0\n",
      "1                  1                                0                0\n",
      "2                  1                                0                0\n",
      "3                  0                                0                1\n",
      "4                  1                                0                0\n",
      "...              ...                              ...              ...\n",
      "7038               0                                0                1\n",
      "7039               1                                0                0\n",
      "7040               1                                0                0\n",
      "7041               1                                0                0\n",
      "7042               0                                0                1\n",
      "\n",
      "[7043 rows x 3 columns]\n",
      "      StreamingTV_No  StreamingTV_No internet service  StreamingTV_Yes\n",
      "0                  1                                0                0\n",
      "1                  1                                0                0\n",
      "2                  1                                0                0\n",
      "3                  1                                0                0\n",
      "4                  1                                0                0\n",
      "...              ...                              ...              ...\n",
      "7038               0                                0                1\n",
      "7039               0                                0                1\n",
      "7040               1                                0                0\n",
      "7041               1                                0                0\n",
      "7042               0                                0                1\n",
      "\n",
      "[7043 rows x 3 columns]\n",
      "      StreamingMovies_No  StreamingMovies_No internet service  \\\n",
      "0                      1                                    0   \n",
      "1                      1                                    0   \n",
      "2                      1                                    0   \n",
      "3                      1                                    0   \n",
      "4                      1                                    0   \n",
      "...                  ...                                  ...   \n",
      "7038                   0                                    0   \n",
      "7039                   0                                    0   \n",
      "7040                   1                                    0   \n",
      "7041                   1                                    0   \n",
      "7042                   0                                    0   \n",
      "\n",
      "      StreamingMovies_Yes  \n",
      "0                       0  \n",
      "1                       0  \n",
      "2                       0  \n",
      "3                       0  \n",
      "4                       0  \n",
      "...                   ...  \n",
      "7038                    1  \n",
      "7039                    1  \n",
      "7040                    0  \n",
      "7041                    0  \n",
      "7042                    1  \n",
      "\n",
      "[7043 rows x 3 columns]\n",
      "      Contract_Month-to-month  Contract_One year  Contract_Two year\n",
      "0                           1                  0                  0\n",
      "1                           0                  1                  0\n",
      "2                           1                  0                  0\n",
      "3                           0                  1                  0\n",
      "4                           1                  0                  0\n",
      "...                       ...                ...                ...\n",
      "7038                        0                  1                  0\n",
      "7039                        0                  1                  0\n",
      "7040                        1                  0                  0\n",
      "7041                        1                  0                  0\n",
      "7042                        0                  0                  1\n",
      "\n",
      "[7043 rows x 3 columns]\n",
      "      PaymentMethod_Bank transfer (automatic)  \\\n",
      "0                                           0   \n",
      "1                                           0   \n",
      "2                                           0   \n",
      "3                                           1   \n",
      "4                                           0   \n",
      "...                                       ...   \n",
      "7038                                        0   \n",
      "7039                                        0   \n",
      "7040                                        0   \n",
      "7041                                        0   \n",
      "7042                                        1   \n",
      "\n",
      "      PaymentMethod_Credit card (automatic)  PaymentMethod_Electronic check  \\\n",
      "0                                         0                               1   \n",
      "1                                         0                               0   \n",
      "2                                         0                               0   \n",
      "3                                         0                               0   \n",
      "4                                         0                               1   \n",
      "...                                     ...                             ...   \n",
      "7038                                      0                               0   \n",
      "7039                                      1                               0   \n",
      "7040                                      0                               1   \n",
      "7041                                      0                               0   \n",
      "7042                                      0                               0   \n",
      "\n",
      "      PaymentMethod_Mailed check  \n",
      "0                              0  \n",
      "1                              1  \n",
      "2                              1  \n",
      "3                              0  \n",
      "4                              0  \n",
      "...                          ...  \n",
      "7038                           1  \n",
      "7039                           0  \n",
      "7040                           0  \n",
      "7041                           1  \n",
      "7042                           0  \n",
      "\n",
      "[7043 rows x 4 columns]\n"
     ]
    }
   ],
   "source": [
    "# Dimensional increase of 2; Consider dropping 'No'\n",
    "\n",
    "MultipleLines = pd.get_dummies(churnDataFrame.MultipleLines, prefix = 'MultipleLines', drop_first= False)\n",
    "\n",
    "InternetService = pd.get_dummies(churnDataFrame.InternetService, prefix = 'InternetService', drop_first= False)\n",
    "\n",
    "OnlineSecurity = pd.get_dummies(churnDataFrame.OnlineSecurity, prefix = 'OnlineSecurity', drop_first= False)\n",
    "\n",
    "OnlineBackup = pd.get_dummies(churnDataFrame.OnlineBackup, prefix = 'OnlineBackup', drop_first= False)\n",
    "\n",
    "DeviceProtection = pd.get_dummies(churnDataFrame.DeviceProtection, prefix = 'DeviceProtection', drop_first= False)\n",
    "\n",
    "TechSupport = pd.get_dummies(churnDataFrame.TechSupport, prefix = 'TechSupport', drop_first= False)\n",
    "\n",
    "StreamingTV = pd.get_dummies(churnDataFrame.StreamingTV, prefix = 'StreamingTV', drop_first= False)\n",
    "\n",
    "StreamingMovies = pd.get_dummies(churnDataFrame.StreamingMovies, prefix = 'StreamingMovies', drop_first= False)\n",
    "\n",
    "# Candidate for 0, 1, and 2 encoding\n",
    "Contract = pd.get_dummies(churnDataFrame.Contract, prefix = 'Contract', drop_first= False)\n",
    "\n",
    "PaymentMethod = pd.get_dummies(churnDataFrame.PaymentMethod, prefix = 'PaymentMethod', drop_first= False)\n",
    "\n",
    "print(MultipleLines)\n",
    "print(InternetService)\n",
    "print(OnlineSecurity)\n",
    "print(OnlineBackup)\n",
    "print(DeviceProtection)\n",
    "print(TechSupport)\n",
    "print(StreamingTV)\n",
    "print(StreamingMovies)\n",
    "print(Contract)\n",
    "print(PaymentMethod)\n"
   ]
  },
  {
   "cell_type": "code",
   "execution_count": 18,
   "metadata": {},
   "outputs": [],
   "source": [
    "\n",
    "# customerID - Key index; consider refactoring with index: customerID dictionary\n",
    "# tenure - Rational Integer; Keep as is. Higher is more meaningful\n",
    "# monthlyCharges - Rational Decimal; Keep as is. Higher is more meaingful\n",
    "# totalCharges - Rational Decimal; Keep as is. Higher is more meaingful\n",
    "\n",
    "# Upon agreement, we'll refactor the dataset to use these new variables\n",
    "\n",
    "# Create histograms for these categories:\n",
    "# Total charges, monthly charges, tenure\n",
    "\n",
    "# Catherine - data prep replace nulls with 0s to be done by Sat\n",
    "#             check data types, floats should be floats, not text, etc\n",
    "#             will use this new clean file for the model\n",
    "\n",
    "# Jennipher - Create hists, scatterplots (?) to be done by Sat\n",
    "#             for categories mentioned, comment on distribution of features\n",
    "\n",
    "# David -     Can do log transformations as necessary"
   ]
  },
  {
   "cell_type": "code",
   "execution_count": 16,
   "metadata": {},
   "outputs": [
    {
     "data": {
      "text/plain": [
       "['customerID',\n",
       " 'gender',\n",
       " 'SeniorCitizen',\n",
       " 'Partner',\n",
       " 'Dependents',\n",
       " 'tenure',\n",
       " 'PhoneService',\n",
       " 'MultipleLines',\n",
       " 'InternetService',\n",
       " 'OnlineSecurity',\n",
       " 'OnlineBackup',\n",
       " 'DeviceProtection',\n",
       " 'TechSupport',\n",
       " 'StreamingTV',\n",
       " 'StreamingMovies',\n",
       " 'Contract',\n",
       " 'PaperlessBilling',\n",
       " 'PaymentMethod',\n",
       " 'MonthlyCharges',\n",
       " 'TotalCharges',\n",
       " 'Churn']"
      ]
     },
     "execution_count": 16,
     "metadata": {},
     "output_type": "execute_result"
    }
   ],
   "source": [
    "# List of column names\n",
    "\n",
    "list(churnDataFrame.columns)"
   ]
  },
  {
   "cell_type": "code",
   "execution_count": 17,
   "metadata": {},
   "outputs": [
    {
     "data": {
      "text/plain": [
       "customerID           object\n",
       "gender               object\n",
       "SeniorCitizen         int64\n",
       "Partner              object\n",
       "Dependents           object\n",
       "tenure                int64\n",
       "PhoneService         object\n",
       "MultipleLines        object\n",
       "InternetService      object\n",
       "OnlineSecurity       object\n",
       "OnlineBackup         object\n",
       "DeviceProtection     object\n",
       "TechSupport          object\n",
       "StreamingTV          object\n",
       "StreamingMovies      object\n",
       "Contract             object\n",
       "PaperlessBilling     object\n",
       "PaymentMethod        object\n",
       "MonthlyCharges      float64\n",
       "TotalCharges        float64\n",
       "Churn                object\n",
       "dtype: object"
      ]
     },
     "execution_count": 17,
     "metadata": {},
     "output_type": "execute_result"
    }
   ],
   "source": [
    "\n",
    "import matplotlib.pyplot as plt\n",
    "from matplotlib.ticker import StrMethodFormatter\n",
    "\n",
    "churnDataFrame.dtypes"
   ]
  },
  {
   "cell_type": "code",
   "execution_count": 18,
   "metadata": {},
   "outputs": [
    {
     "data": {
      "text/plain": [
       "Text(0.5, 0, 'Charges')"
      ]
     },
     "execution_count": 18,
     "metadata": {},
     "output_type": "execute_result"
    },
    {
     "data": {
      "image/png": "[encoded data removed]",
      "text/plain": [
       "<Figure size 1080x360 with 1 Axes>"
      ]
     },
     "metadata": {
      "needs_background": "light"
     },
     "output_type": "display_data"
    }
   ],
   "source": [
    "churnDataFrame.hist(column = 'MonthlyCharges', grid = False, edgecolor = 'k', figsize = (15,5))\n",
    "plt.title('Monthly Charges')\n",
    "plt.ylabel('Customer Count')\n",
    "plt.xlabel('Charges')"
   ]
  },
  {
   "cell_type": "code",
   "execution_count": 19,
   "metadata": {},
   "outputs": [
    {
     "data": {
      "text/plain": [
       "Text(0.5, 0, 'Months with Telco')"
      ]
     },
     "execution_count": 19,
     "metadata": {},
     "output_type": "execute_result"
    },
    {
     "data": {
      "image/png": "[encoded data removed]",
      "text/plain": [
       "<Figure size 1080x360 with 1 Axes>"
      ]
     },
     "metadata": {
      "needs_background": "light"
     },
     "output_type": "display_data"
    }
   ],
   "source": [
    "churnDataFrame.hist(column = 'tenure', grid = False, edgecolor = 'k', figsize = (15,5))\n",
    "plt.title('Customer Tenure')\n",
    "plt.ylabel('Customer Count')\n",
    "plt.xlabel('Months with Telco')"
   ]
  },
  {
   "cell_type": "code",
   "execution_count": 30,
   "metadata": {},
   "outputs": [
    {
     "data": {
      "text/plain": [
       "Text(0.5, 0, 'Total Charge to Customer')"
      ]
     },
     "execution_count": 30,
     "metadata": {},
     "output_type": "execute_result"
    },
    {
     "data": {
      "image/png": "[encoded data removed]",
      "text/plain": [
       "<Figure size 720x360 with 1 Axes>"
      ]
     },
     "metadata": {
      "needs_background": "light"
     },
     "output_type": "display_data"
    }
   ],
   "source": [
    "churnDataFrame.hist(column = 'TotalCharges',grid=False, edgecolor = 'k', figsize = (10,5))\n",
    "plt.title('Total Charges')\n",
    "plt.ylabel('Customer Count')\n",
    "plt.xlabel('Total Charge to Customer')"
   ]
  },
  {
   "cell_type": "code",
   "execution_count": 34,
   "metadata": {},
   "outputs": [
    {
     "data": {
      "text/plain": [
       "Text(0.5, 0, 'Total Charge to Customer')"
      ]
     },
     "execution_count": 34,
     "metadata": {},
     "output_type": "execute_result"
    },
    {
     "data": {
      "image/png": "[encoded data removed]",
      "text/plain": [
       "<Figure size 720x360 with 1 Axes>"
      ]
     },
     "metadata": {
      "needs_background": "light"
     },
     "output_type": "display_data"
    }
   ],
   "source": [
    "churnDataFrame.hist(column='TotalCharges',grid=False,edgecolor='k',figsize=(10,5))\n",
    "plt.title('Total Charges')\n",
    "plt.ylabel('Customer Count')\n",
    "plt.xlabel('Total Charge to Customer')\n"
   ]
  },
  {
   "cell_type": "code",
   "execution_count": null,
   "metadata": {},
   "outputs": [],
   "source": []
  }
 ],
 "metadata": {
  "kernelspec": {
   "display_name": "Python 3",
   "language": "python",
   "name": "python3"
  },
  "language_info": {
   "codemirror_mode": {
    "name": "ipython",
    "version": 3
   },
   "file_extension": ".py",
   "mimetype": "text/x-python",
   "name": "python",
   "nbconvert_exporter": "python",
   "pygments_lexer": "ipython3",
   "version": "3.8.3"
  }
 },
 "nbformat": 4,
 "nbformat_minor": 4
}
