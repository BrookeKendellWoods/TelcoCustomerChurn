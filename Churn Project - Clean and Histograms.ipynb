{
 "cells": [
  {
   "cell_type": "code",
   "execution_count": 1,
   "metadata": {},
   "outputs": [],
   "source": [
    "# Helper Libraries\n",
    "\n",
    "import pandas as pd\n",
    "import numpy as np\n",
    "import os\n",
    "import seaborn as sns\n",
    "sns.set()\n",
    "import statsmodels.api as sm\n"
   ]
  },
  {
   "cell_type": "code",
   "execution_count": 2,
   "metadata": {},
   "outputs": [
    {
     "data": {
      "text/plain": [
       "['.ipynb_checkpoints',\n",
       " 'Churn Project - Clean and Histograms (1).ipynb',\n",
       " 'Churn Project - Clean and Histograms.ipynb',\n",
       " 'Churn Project - Histograms (1).ipynb',\n",
       " 'Churn Project - Histograms For Churned Customers Only.ipynb',\n",
       " 'Data Cleaning and Initial Exploration.ipynb',\n",
       " 'DataSciencePractice.ipynb',\n",
       " 'project.ipynb',\n",
       " 'ProjectAttempt.ipynb',\n",
       " 'ProjectPractice.ipynb',\n",
       " 'PythonProject',\n",
       " 'Support Vector Classifier.ipynb',\n",
       " 'Untitled.ipynb',\n",
       " 'Untitled1.ipynb',\n",
       " 'Untitled10.ipynb',\n",
       " 'Untitled11.ipynb',\n",
       " 'Untitled2.ipynb',\n",
       " 'Untitled3.ipynb',\n",
       " 'Untitled4.ipynb',\n",
       " 'Untitled5.ipynb',\n",
       " 'Untitled6.ipynb',\n",
       " 'Untitled7.ipynb',\n",
       " 'Untitled8.ipynb',\n",
       " 'WA_Fn-UseC_-Telco-Customer-Churn - Shortcut.lnk',\n",
       " 'WA_Fn-UseC_-Telco-Customer-Churn.csv']"
      ]
     },
     "execution_count": 2,
     "metadata": {},
     "output_type": "execute_result"
    }
   ],
   "source": [
    "# Check for the dataset in the directory\n",
    "\n",
    "os.listdir()"
   ]
  },
  {
   "cell_type": "code",
   "execution_count": 8,
   "metadata": {},
   "outputs": [
    {
     "data": {
      "text/html": [
       "<div>\n",
       "<style scoped>\n",
       "    .dataframe tbody tr th:only-of-type {\n",
       "        vertical-align: middle;\n",
       "    }\n",
       "\n",
       "    .dataframe tbody tr th {\n",
       "        vertical-align: top;\n",
       "    }\n",
       "\n",
       "    .dataframe thead th {\n",
       "        text-align: right;\n",
       "    }\n",
       "</style>\n",
       "<table border=\"1\" class=\"dataframe\">\n",
       "  <thead>\n",
       "    <tr style=\"text-align: right;\">\n",
       "      <th></th>\n",
       "      <th>customerID</th>\n",
       "      <th>gender</th>\n",
       "      <th>SeniorCitizen</th>\n",
       "      <th>Partner</th>\n",
       "      <th>Dependents</th>\n",
       "      <th>tenure</th>\n",
       "      <th>PhoneService</th>\n",
       "      <th>MultipleLines</th>\n",
       "      <th>InternetService</th>\n",
       "      <th>OnlineSecurity</th>\n",
       "      <th>...</th>\n",
       "      <th>DeviceProtection</th>\n",
       "      <th>TechSupport</th>\n",
       "      <th>StreamingTV</th>\n",
       "      <th>StreamingMovies</th>\n",
       "      <th>Contract</th>\n",
       "      <th>PaperlessBilling</th>\n",
       "      <th>PaymentMethod</th>\n",
       "      <th>MonthlyCharges</th>\n",
       "      <th>TotalCharges</th>\n",
       "      <th>Churn</th>\n",
       "    </tr>\n",
       "  </thead>\n",
       "  <tbody>\n",
       "    <tr>\n",
       "      <th>0</th>\n",
       "      <td>7590-VHVEG</td>\n",
       "      <td>Female</td>\n",
       "      <td>0</td>\n",
       "      <td>Yes</td>\n",
       "      <td>No</td>\n",
       "      <td>1</td>\n",
       "      <td>No</td>\n",
       "      <td>No phone service</td>\n",
       "      <td>DSL</td>\n",
       "      <td>No</td>\n",
       "      <td>...</td>\n",
       "      <td>No</td>\n",
       "      <td>No</td>\n",
       "      <td>No</td>\n",
       "      <td>No</td>\n",
       "      <td>Month-to-month</td>\n",
       "      <td>Yes</td>\n",
       "      <td>Electronic check</td>\n",
       "      <td>29.85</td>\n",
       "      <td>29.85</td>\n",
       "      <td>No</td>\n",
       "    </tr>\n",
       "    <tr>\n",
       "      <th>1</th>\n",
       "      <td>5575-GNVDE</td>\n",
       "      <td>Male</td>\n",
       "      <td>0</td>\n",
       "      <td>No</td>\n",
       "      <td>No</td>\n",
       "      <td>34</td>\n",
       "      <td>Yes</td>\n",
       "      <td>No</td>\n",
       "      <td>DSL</td>\n",
       "      <td>Yes</td>\n",
       "      <td>...</td>\n",
       "      <td>Yes</td>\n",
       "      <td>No</td>\n",
       "      <td>No</td>\n",
       "      <td>No</td>\n",
       "      <td>One year</td>\n",
       "      <td>No</td>\n",
       "      <td>Mailed check</td>\n",
       "      <td>56.95</td>\n",
       "      <td>1889.50</td>\n",
       "      <td>No</td>\n",
       "    </tr>\n",
       "    <tr>\n",
       "      <th>2</th>\n",
       "      <td>3668-QPYBK</td>\n",
       "      <td>Male</td>\n",
       "      <td>0</td>\n",
       "      <td>No</td>\n",
       "      <td>No</td>\n",
       "      <td>2</td>\n",
       "      <td>Yes</td>\n",
       "      <td>No</td>\n",
       "      <td>DSL</td>\n",
       "      <td>Yes</td>\n",
       "      <td>...</td>\n",
       "      <td>No</td>\n",
       "      <td>No</td>\n",
       "      <td>No</td>\n",
       "      <td>No</td>\n",
       "      <td>Month-to-month</td>\n",
       "      <td>Yes</td>\n",
       "      <td>Mailed check</td>\n",
       "      <td>53.85</td>\n",
       "      <td>108.15</td>\n",
       "      <td>Yes</td>\n",
       "    </tr>\n",
       "    <tr>\n",
       "      <th>3</th>\n",
       "      <td>7795-CFOCW</td>\n",
       "      <td>Male</td>\n",
       "      <td>0</td>\n",
       "      <td>No</td>\n",
       "      <td>No</td>\n",
       "      <td>45</td>\n",
       "      <td>No</td>\n",
       "      <td>No phone service</td>\n",
       "      <td>DSL</td>\n",
       "      <td>Yes</td>\n",
       "      <td>...</td>\n",
       "      <td>Yes</td>\n",
       "      <td>Yes</td>\n",
       "      <td>No</td>\n",
       "      <td>No</td>\n",
       "      <td>One year</td>\n",
       "      <td>No</td>\n",
       "      <td>Bank transfer (automatic)</td>\n",
       "      <td>42.30</td>\n",
       "      <td>1840.75</td>\n",
       "      <td>No</td>\n",
       "    </tr>\n",
       "    <tr>\n",
       "      <th>4</th>\n",
       "      <td>9237-HQITU</td>\n",
       "      <td>Female</td>\n",
       "      <td>0</td>\n",
       "      <td>No</td>\n",
       "      <td>No</td>\n",
       "      <td>2</td>\n",
       "      <td>Yes</td>\n",
       "      <td>No</td>\n",
       "      <td>Fiber optic</td>\n",
       "      <td>No</td>\n",
       "      <td>...</td>\n",
       "      <td>No</td>\n",
       "      <td>No</td>\n",
       "      <td>No</td>\n",
       "      <td>No</td>\n",
       "      <td>Month-to-month</td>\n",
       "      <td>Yes</td>\n",
       "      <td>Electronic check</td>\n",
       "      <td>70.70</td>\n",
       "      <td>151.65</td>\n",
       "      <td>Yes</td>\n",
       "    </tr>\n",
       "  </tbody>\n",
       "</table>\n",
       "<p>5 rows × 21 columns</p>\n",
       "</div>"
      ],
      "text/plain": [
       "   customerID  gender  SeniorCitizen Partner Dependents  tenure PhoneService  \\\n",
       "0  7590-VHVEG  Female              0     Yes         No       1           No   \n",
       "1  5575-GNVDE    Male              0      No         No      34          Yes   \n",
       "2  3668-QPYBK    Male              0      No         No       2          Yes   \n",
       "3  7795-CFOCW    Male              0      No         No      45           No   \n",
       "4  9237-HQITU  Female              0      No         No       2          Yes   \n",
       "\n",
       "      MultipleLines InternetService OnlineSecurity  ... DeviceProtection  \\\n",
       "0  No phone service             DSL             No  ...               No   \n",
       "1                No             DSL            Yes  ...              Yes   \n",
       "2                No             DSL            Yes  ...               No   \n",
       "3  No phone service             DSL            Yes  ...              Yes   \n",
       "4                No     Fiber optic             No  ...               No   \n",
       "\n",
       "  TechSupport StreamingTV StreamingMovies        Contract PaperlessBilling  \\\n",
       "0          No          No              No  Month-to-month              Yes   \n",
       "1          No          No              No        One year               No   \n",
       "2          No          No              No  Month-to-month              Yes   \n",
       "3         Yes          No              No        One year               No   \n",
       "4          No          No              No  Month-to-month              Yes   \n",
       "\n",
       "               PaymentMethod MonthlyCharges  TotalCharges  Churn  \n",
       "0           Electronic check          29.85         29.85     No  \n",
       "1               Mailed check          56.95       1889.50     No  \n",
       "2               Mailed check          53.85        108.15    Yes  \n",
       "3  Bank transfer (automatic)          42.30       1840.75     No  \n",
       "4           Electronic check          70.70        151.65    Yes  \n",
       "\n",
       "[5 rows x 21 columns]"
      ]
     },
     "execution_count": 8,
     "metadata": {},
     "output_type": "execute_result"
    }
   ],
   "source": [
    "churnDataFrame = pd.read_csv(r'WA_Fn-UseC_-Telco-Customer-Churn.csv',skipinitialspace=True)\n",
    "churnDataFrame.head(5)"
   ]
  },
  {
   "cell_type": "code",
   "execution_count": 5,
   "metadata": {},
   "outputs": [
    {
     "data": {
      "text/plain": [
       "(7043, 21)"
      ]
     },
     "execution_count": 5,
     "metadata": {},
     "output_type": "execute_result"
    }
   ],
   "source": [
    "churnDataFrame.shape"
   ]
  },
  {
   "cell_type": "code",
   "execution_count": 6,
   "metadata": {},
   "outputs": [
    {
     "ename": "TypeError",
     "evalue": "parser_f() got an unexpected keyword argument 'skipinitalspace'",
     "output_type": "error",
     "traceback": [
      "\u001b[1;31m---------------------------------------------------------------------------\u001b[0m",
      "\u001b[1;31mTypeError\u001b[0m                                 Traceback (most recent call last)",
      "\u001b[1;32m<ipython-input-6-77346f740319>\u001b[0m in \u001b[0;36m<module>\u001b[1;34m\u001b[0m\n\u001b[0;32m      1\u001b[0m \u001b[1;31m#Pull the churn dataset into a dataframe and print the dataframe (Pandas truncates this)\u001b[0m\u001b[1;33m\u001b[0m\u001b[1;33m\u001b[0m\u001b[1;33m\u001b[0m\u001b[0m\n\u001b[1;32m----> 2\u001b[1;33m \u001b[0mchurnDataFrame\u001b[0m \u001b[1;33m=\u001b[0m \u001b[0mpd\u001b[0m\u001b[1;33m.\u001b[0m\u001b[0mread_csv\u001b[0m\u001b[1;33m(\u001b[0m\u001b[1;34mr'WA_Fn-UseC_-Telco-Customer-Churn.csv'\u001b[0m\u001b[1;33m,\u001b[0m\u001b[0mskipinitalspace\u001b[0m\u001b[1;33m=\u001b[0m\u001b[1;32mTrue\u001b[0m\u001b[1;33m)\u001b[0m\u001b[1;33m\u001b[0m\u001b[1;33m\u001b[0m\u001b[0m\n\u001b[0m",
      "\u001b[1;31mTypeError\u001b[0m: parser_f() got an unexpected keyword argument 'skipinitalspace'"
     ]
    }
   ],
   "source": []
  },
  {
   "cell_type": "code",
   "execution_count": 4,
   "metadata": {},
   "outputs": [
    {
     "data": {
      "text/plain": [
       "customerID          False\n",
       "gender              False\n",
       "SeniorCitizen       False\n",
       "Partner             False\n",
       "Dependents          False\n",
       "tenure              False\n",
       "PhoneService        False\n",
       "MultipleLines       False\n",
       "InternetService     False\n",
       "OnlineSecurity      False\n",
       "OnlineBackup        False\n",
       "DeviceProtection    False\n",
       "TechSupport         False\n",
       "StreamingTV         False\n",
       "StreamingMovies     False\n",
       "Contract            False\n",
       "PaperlessBilling    False\n",
       "PaymentMethod       False\n",
       "MonthlyCharges      False\n",
       "TotalCharges         True\n",
       "Churn               False\n",
       "dtype: bool"
      ]
     },
     "execution_count": 4,
     "metadata": {},
     "output_type": "execute_result"
    }
   ],
   "source": [
    "#check for attributes with missing values\n",
    "churnDataFrame.isnull().any()"
   ]
  },
  {
   "cell_type": "code",
   "execution_count": 31,
   "metadata": {},
   "outputs": [
    {
     "data": {
      "text/plain": [
       "customerID                         4472-LVYGI\n",
       "gender                                 Female\n",
       "SeniorCitizen                               0\n",
       "Partner                                   Yes\n",
       "Dependents                                Yes\n",
       "tenure                                      0\n",
       "PhoneService                               No\n",
       "MultipleLines                No phone service\n",
       "InternetService                           DSL\n",
       "OnlineSecurity                            Yes\n",
       "OnlineBackup                               No\n",
       "DeviceProtection                          Yes\n",
       "TechSupport                               Yes\n",
       "StreamingTV                               Yes\n",
       "StreamingMovies                            No\n",
       "Contract                             Two year\n",
       "PaperlessBilling                          Yes\n",
       "PaymentMethod       Bank transfer (automatic)\n",
       "MonthlyCharges                          52.55\n",
       "TotalCharges                              NaN\n",
       "Churn                                      No\n",
       "Name: 488, dtype: object"
      ]
     },
     "execution_count": 31,
     "metadata": {},
     "output_type": "execute_result"
    }
   ],
   "source": [
    "#example record with missing value \n",
    "churnDataFrame.iloc[488]"
   ]
  },
  {
   "cell_type": "code",
   "execution_count": 32,
   "metadata": {},
   "outputs": [],
   "source": [
    "#impute 0's for the nulls\n",
    "churnDataFrame['TotalCharges'] = churnDataFrame['TotalCharges'].fillna(value=0)"
   ]
  },
  {
   "cell_type": "code",
   "execution_count": 33,
   "metadata": {},
   "outputs": [
    {
     "data": {
      "text/plain": [
       "customerID                         4472-LVYGI\n",
       "gender                                 Female\n",
       "SeniorCitizen                               0\n",
       "Partner                                   Yes\n",
       "Dependents                                Yes\n",
       "tenure                                      0\n",
       "PhoneService                               No\n",
       "MultipleLines                No phone service\n",
       "InternetService                           DSL\n",
       "OnlineSecurity                            Yes\n",
       "OnlineBackup                               No\n",
       "DeviceProtection                          Yes\n",
       "TechSupport                               Yes\n",
       "StreamingTV                               Yes\n",
       "StreamingMovies                            No\n",
       "Contract                             Two year\n",
       "PaperlessBilling                          Yes\n",
       "PaymentMethod       Bank transfer (automatic)\n",
       "MonthlyCharges                          52.55\n",
       "TotalCharges                                0\n",
       "Churn                                      No\n",
       "Name: 488, dtype: object"
      ]
     },
     "execution_count": 33,
     "metadata": {},
     "output_type": "execute_result"
    }
   ],
   "source": [
    "#validation for imputation \n",
    "churnDataFrame.iloc[488]"
   ]
  },
  {
   "cell_type": "code",
   "execution_count": 34,
   "metadata": {},
   "outputs": [
    {
     "name": "stdout",
     "output_type": "stream",
     "text": [
      "      Partner_No  Partner_Yes\n",
      "0              0            1\n",
      "1              1            0\n",
      "2              1            0\n",
      "3              1            0\n",
      "4              1            0\n",
      "...          ...          ...\n",
      "7038           0            1\n",
      "7039           0            1\n",
      "7040           0            1\n",
      "7041           0            1\n",
      "7042           1            0\n",
      "\n",
      "[7043 rows x 2 columns]\n",
      "      Gender_Female  Gender_Male\n",
      "0                 1            0\n",
      "1                 0            1\n",
      "2                 0            1\n",
      "3                 0            1\n",
      "4                 1            0\n",
      "...             ...          ...\n",
      "7038              0            1\n",
      "7039              1            0\n",
      "7040              1            0\n",
      "7041              0            1\n",
      "7042              0            1\n",
      "\n",
      "[7043 rows x 2 columns]\n",
      "      Dependents_No  Dependents_Yes\n",
      "0                 1               0\n",
      "1                 1               0\n",
      "2                 1               0\n",
      "3                 1               0\n",
      "4                 1               0\n",
      "...             ...             ...\n",
      "7038              0               1\n",
      "7039              0               1\n",
      "7040              0               1\n",
      "7041              1               0\n",
      "7042              1               0\n",
      "\n",
      "[7043 rows x 2 columns]\n",
      "      PhoneServices_No  PhoneServices_Yes\n",
      "0                    1                  0\n",
      "1                    0                  1\n",
      "2                    0                  1\n",
      "3                    1                  0\n",
      "4                    0                  1\n",
      "...                ...                ...\n",
      "7038                 0                  1\n",
      "7039                 0                  1\n",
      "7040                 1                  0\n",
      "7041                 0                  1\n",
      "7042                 0                  1\n",
      "\n",
      "[7043 rows x 2 columns]\n",
      "      PaperlessBilling_No  PaperlessBilling_Yes\n",
      "0                       0                     1\n",
      "1                       1                     0\n",
      "2                       0                     1\n",
      "3                       1                     0\n",
      "4                       0                     1\n",
      "...                   ...                   ...\n",
      "7038                    0                     1\n",
      "7039                    0                     1\n",
      "7040                    0                     1\n",
      "7041                    0                     1\n",
      "7042                    0                     1\n",
      "\n",
      "[7043 rows x 2 columns]\n",
      "      Churn_No  Churn_Yes\n",
      "0            1          0\n",
      "1            1          0\n",
      "2            0          1\n",
      "3            1          0\n",
      "4            0          1\n",
      "...        ...        ...\n",
      "7038         1          0\n",
      "7039         1          0\n",
      "7040         1          0\n",
      "7041         0          1\n",
      "7042         1          0\n",
      "\n",
      "[7043 rows x 2 columns]\n",
      "      SeniorCitizen_0  SeniorCitizen_1\n",
      "0                   1                0\n",
      "1                   1                0\n",
      "2                   1                0\n",
      "3                   1                0\n",
      "4                   1                0\n",
      "...               ...              ...\n",
      "7038                1                0\n",
      "7039                1                0\n",
      "7040                1                0\n",
      "7041                0                1\n",
      "7042                1                0\n",
      "\n",
      "[7043 rows x 2 columns]\n"
     ]
    }
   ],
   "source": [
    "# Column conversion to boolean datatype\n",
    "# No dimensional increase if we drop the 'no' column generated\n",
    "\n",
    "Partner = pd.get_dummies(churnDataFrame.Partner,prefix='Partner', drop_first = False)\n",
    "\n",
    "Gender = pd.get_dummies(churnDataFrame.gender,prefix='Gender', drop_first = False)\n",
    "\n",
    "Dependents = pd.get_dummies(churnDataFrame.Dependents,prefix='Dependents', drop_first = False)\n",
    "\n",
    "PhoneService = pd.get_dummies(churnDataFrame.PhoneService,prefix='PhoneServices', drop_first = False)\n",
    "\n",
    "PaperlessBilling = pd.get_dummies(churnDataFrame.PaperlessBilling,prefix='PaperlessBilling', drop_first = False)\n",
    "\n",
    "Churn = pd.get_dummies(churnDataFrame.Churn,prefix='Churn', drop_first = False)\n",
    "\n",
    "SeniorCitizen = pd.get_dummies(churnDataFrame.SeniorCitizen,prefix='SeniorCitizen', drop_first = False)\n",
    "\n",
    "print(Partner)\n",
    "print(Gender)\n",
    "print(Dependents)\n",
    "print(PhoneService)\n",
    "print(PaperlessBilling)\n",
    "print(Churn)\n",
    "print(SeniorCitizen)"
   ]
  },
  {
   "cell_type": "code",
   "execution_count": 13,
   "metadata": {},
   "outputs": [
    {
     "name": "stdout",
     "output_type": "stream",
     "text": [
      "      MultipleLines_No  MultipleLines_No phone service  MultipleLines_Yes\n",
      "0                    0                               1                  0\n",
      "1                    1                               0                  0\n",
      "2                    1                               0                  0\n",
      "3                    0                               1                  0\n",
      "4                    1                               0                  0\n",
      "...                ...                             ...                ...\n",
      "7038                 0                               0                  1\n",
      "7039                 0                               0                  1\n",
      "7040                 0                               1                  0\n",
      "7041                 0                               0                  1\n",
      "7042                 1                               0                  0\n",
      "\n",
      "[7043 rows x 3 columns]\n",
      "      InternetService_DSL  InternetService_Fiber optic  InternetService_No\n",
      "0                       1                            0                   0\n",
      "1                       1                            0                   0\n",
      "2                       1                            0                   0\n",
      "3                       1                            0                   0\n",
      "4                       0                            1                   0\n",
      "...                   ...                          ...                 ...\n",
      "7038                    1                            0                   0\n",
      "7039                    0                            1                   0\n",
      "7040                    1                            0                   0\n",
      "7041                    0                            1                   0\n",
      "7042                    0                            1                   0\n",
      "\n",
      "[7043 rows x 3 columns]\n",
      "      OnlineSecurity_No  OnlineSecurity_No internet service  \\\n",
      "0                     1                                   0   \n",
      "1                     0                                   0   \n",
      "2                     0                                   0   \n",
      "3                     0                                   0   \n",
      "4                     1                                   0   \n",
      "...                 ...                                 ...   \n",
      "7038                  0                                   0   \n",
      "7039                  1                                   0   \n",
      "7040                  0                                   0   \n",
      "7041                  1                                   0   \n",
      "7042                  0                                   0   \n",
      "\n",
      "      OnlineSecurity_Yes  \n",
      "0                      0  \n",
      "1                      1  \n",
      "2                      1  \n",
      "3                      1  \n",
      "4                      0  \n",
      "...                  ...  \n",
      "7038                   1  \n",
      "7039                   0  \n",
      "7040                   1  \n",
      "7041                   0  \n",
      "7042                   1  \n",
      "\n",
      "[7043 rows x 3 columns]\n",
      "      OnlineBackup_No  OnlineBackup_No internet service  OnlineBackup_Yes\n",
      "0                   0                                 0                 1\n",
      "1                   1                                 0                 0\n",
      "2                   0                                 0                 1\n",
      "3                   1                                 0                 0\n",
      "4                   1                                 0                 0\n",
      "...               ...                               ...               ...\n",
      "7038                1                                 0                 0\n",
      "7039                0                                 0                 1\n",
      "7040                1                                 0                 0\n",
      "7041                1                                 0                 0\n",
      "7042                1                                 0                 0\n",
      "\n",
      "[7043 rows x 3 columns]\n",
      "      DeviceProtection_No  DeviceProtection_No internet service  \\\n",
      "0                       1                                     0   \n",
      "1                       0                                     0   \n",
      "2                       1                                     0   \n",
      "3                       0                                     0   \n",
      "4                       1                                     0   \n",
      "...                   ...                                   ...   \n",
      "7038                    0                                     0   \n",
      "7039                    0                                     0   \n",
      "7040                    1                                     0   \n",
      "7041                    1                                     0   \n",
      "7042                    0                                     0   \n",
      "\n",
      "      DeviceProtection_Yes  \n",
      "0                        0  \n",
      "1                        1  \n",
      "2                        0  \n",
      "3                        1  \n",
      "4                        0  \n",
      "...                    ...  \n",
      "7038                     1  \n",
      "7039                     1  \n",
      "7040                     0  \n",
      "7041                     0  \n",
      "7042                     1  \n",
      "\n",
      "[7043 rows x 3 columns]\n",
      "      TechSupport_No  TechSupport_No internet service  TechSupport_Yes\n",
      "0                  1                                0                0\n",
      "1                  1                                0                0\n",
      "2                  1                                0                0\n",
      "3                  0                                0                1\n",
      "4                  1                                0                0\n",
      "...              ...                              ...              ...\n",
      "7038               0                                0                1\n",
      "7039               1                                0                0\n",
      "7040               1                                0                0\n",
      "7041               1                                0                0\n",
      "7042               0                                0                1\n",
      "\n",
      "[7043 rows x 3 columns]\n",
      "      StreamingTV_No  StreamingTV_No internet service  StreamingTV_Yes\n",
      "0                  1                                0                0\n",
      "1                  1                                0                0\n",
      "2                  1                                0                0\n",
      "3                  1                                0                0\n",
      "4                  1                                0                0\n",
      "...              ...                              ...              ...\n",
      "7038               0                                0                1\n",
      "7039               0                                0                1\n",
      "7040               1                                0                0\n",
      "7041               1                                0                0\n",
      "7042               0                                0                1\n",
      "\n",
      "[7043 rows x 3 columns]\n",
      "      StreamingMovies_No  StreamingMovies_No internet service  \\\n",
      "0                      1                                    0   \n",
      "1                      1                                    0   \n",
      "2                      1                                    0   \n",
      "3                      1                                    0   \n",
      "4                      1                                    0   \n",
      "...                  ...                                  ...   \n",
      "7038                   0                                    0   \n",
      "7039                   0                                    0   \n",
      "7040                   1                                    0   \n",
      "7041                   1                                    0   \n",
      "7042                   0                                    0   \n",
      "\n",
      "      StreamingMovies_Yes  \n",
      "0                       0  \n",
      "1                       0  \n",
      "2                       0  \n",
      "3                       0  \n",
      "4                       0  \n",
      "...                   ...  \n",
      "7038                    1  \n",
      "7039                    1  \n",
      "7040                    0  \n",
      "7041                    0  \n",
      "7042                    1  \n",
      "\n",
      "[7043 rows x 3 columns]\n",
      "      Contract_Month-to-month  Contract_One year  Contract_Two year\n",
      "0                           1                  0                  0\n",
      "1                           0                  1                  0\n",
      "2                           1                  0                  0\n",
      "3                           0                  1                  0\n",
      "4                           1                  0                  0\n",
      "...                       ...                ...                ...\n",
      "7038                        0                  1                  0\n",
      "7039                        0                  1                  0\n",
      "7040                        1                  0                  0\n",
      "7041                        1                  0                  0\n",
      "7042                        0                  0                  1\n",
      "\n",
      "[7043 rows x 3 columns]\n",
      "      PaymentMethod_Bank transfer (automatic)  \\\n",
      "0                                           0   \n",
      "1                                           0   \n",
      "2                                           0   \n",
      "3                                           1   \n",
      "4                                           0   \n",
      "...                                       ...   \n",
      "7038                                        0   \n",
      "7039                                        0   \n",
      "7040                                        0   \n",
      "7041                                        0   \n",
      "7042                                        1   \n",
      "\n",
      "      PaymentMethod_Credit card (automatic)  PaymentMethod_Electronic check  \\\n",
      "0                                         0                               1   \n",
      "1                                         0                               0   \n",
      "2                                         0                               0   \n",
      "3                                         0                               0   \n",
      "4                                         0                               1   \n",
      "...                                     ...                             ...   \n",
      "7038                                      0                               0   \n",
      "7039                                      1                               0   \n",
      "7040                                      0                               1   \n",
      "7041                                      0                               0   \n",
      "7042                                      0                               0   \n",
      "\n",
      "      PaymentMethod_Mailed check  \n",
      "0                              0  \n",
      "1                              1  \n",
      "2                              1  \n",
      "3                              0  \n",
      "4                              0  \n",
      "...                          ...  \n",
      "7038                           1  \n",
      "7039                           0  \n",
      "7040                           0  \n",
      "7041                           1  \n",
      "7042                           0  \n",
      "\n",
      "[7043 rows x 4 columns]\n"
     ]
    }
   ],
   "source": [
    "# Dimensional increase of 2; Consider dropping 'No'\n",
    "\n",
    "MultipleLines = pd.get_dummies(churnDataFrame.MultipleLines, prefix = 'MultipleLines', drop_first= False)\n",
    "\n",
    "InternetService = pd.get_dummies(churnDataFrame.InternetService, prefix = 'InternetService', drop_first= False)\n",
    "\n",
    "OnlineSecurity = pd.get_dummies(churnDataFrame.OnlineSecurity, prefix = 'OnlineSecurity', drop_first= False)\n",
    "\n",
    "OnlineBackup = pd.get_dummies(churnDataFrame.OnlineBackup, prefix = 'OnlineBackup', drop_first= False)\n",
    "\n",
    "DeviceProtection = pd.get_dummies(churnDataFrame.DeviceProtection, prefix = 'DeviceProtection', drop_first= False)\n",
    "\n",
    "TechSupport = pd.get_dummies(churnDataFrame.TechSupport, prefix = 'TechSupport', drop_first= False)\n",
    "\n",
    "StreamingTV = pd.get_dummies(churnDataFrame.StreamingTV, prefix = 'StreamingTV', drop_first= False)\n",
    "\n",
    "StreamingMovies = pd.get_dummies(churnDataFrame.StreamingMovies, prefix = 'StreamingMovies', drop_first= False)\n",
    "\n",
    "# Candidate for 0, 1, and 2 encoding\n",
    "Contract = pd.get_dummies(churnDataFrame.Contract, prefix = 'Contract', drop_first= False)\n",
    "\n",
    "PaymentMethod = pd.get_dummies(churnDataFrame.PaymentMethod, prefix = 'PaymentMethod', drop_first= False)\n",
    "\n",
    "print(MultipleLines)\n",
    "print(InternetService)\n",
    "print(OnlineSecurity)\n",
    "print(OnlineBackup)\n",
    "print(DeviceProtection)\n",
    "print(TechSupport)\n",
    "print(StreamingTV)\n",
    "print(StreamingMovies)\n",
    "print(Contract)\n",
    "print(PaymentMethod)\n"
   ]
  },
  {
   "cell_type": "code",
   "execution_count": 14,
   "metadata": {},
   "outputs": [],
   "source": [
    "\n",
    "# customerID - Key index; consider refactoring with index: customerID dictionary\n",
    "# tenure - Rational Integer; Keep as is. Higher is more meaningful\n",
    "# monthlyCharges - Rational Decimal; Keep as is. Higher is more meaingful\n",
    "# totalCharges - Rational Decimal; Keep as is. Higher is more meaingful\n",
    "\n",
    "# Upon agreement, we'll refactor the dataset to use these new variables\n",
    "\n",
    "# Create histograms for these categories:\n",
    "# Total charges, monthly charges, tenure\n",
    "\n",
    "# Catherine - data prep replace nulls with 0s to be done by Sat\n",
    "#             check data types, floats should be floats, not text, etc\n",
    "#             will use this new clean file for the model\n",
    "\n",
    "# Jennipher - Create hists, scatterplots (?) to be done by Sat\n",
    "#             for categories mentioned, comment on distribution of features\n",
    "\n",
    "# David -     Can do log transformations as necessary"
   ]
  },
  {
   "cell_type": "code",
   "execution_count": 15,
   "metadata": {},
   "outputs": [
    {
     "data": {
      "text/plain": [
       "['customerID',\n",
       " 'gender',\n",
       " 'SeniorCitizen',\n",
       " 'Partner',\n",
       " 'Dependents',\n",
       " 'tenure',\n",
       " 'PhoneService',\n",
       " 'MultipleLines',\n",
       " 'InternetService',\n",
       " 'OnlineSecurity',\n",
       " 'OnlineBackup',\n",
       " 'DeviceProtection',\n",
       " 'TechSupport',\n",
       " 'StreamingTV',\n",
       " 'StreamingMovies',\n",
       " 'Contract',\n",
       " 'PaperlessBilling',\n",
       " 'PaymentMethod',\n",
       " 'MonthlyCharges',\n",
       " 'TotalCharges',\n",
       " 'Churn']"
      ]
     },
     "execution_count": 15,
     "metadata": {},
     "output_type": "execute_result"
    }
   ],
   "source": [
    "# List of column names\n",
    "\n",
    "list(churnDataFrame.columns)"
   ]
  },
  {
   "cell_type": "code",
   "execution_count": 16,
   "metadata": {},
   "outputs": [
    {
     "data": {
      "text/plain": [
       "customerID           object\n",
       "gender               object\n",
       "SeniorCitizen         int64\n",
       "Partner              object\n",
       "Dependents           object\n",
       "tenure                int64\n",
       "PhoneService         object\n",
       "MultipleLines        object\n",
       "InternetService      object\n",
       "OnlineSecurity       object\n",
       "OnlineBackup         object\n",
       "DeviceProtection     object\n",
       "TechSupport          object\n",
       "StreamingTV          object\n",
       "StreamingMovies      object\n",
       "Contract             object\n",
       "PaperlessBilling     object\n",
       "PaymentMethod        object\n",
       "MonthlyCharges      float64\n",
       "TotalCharges        float64\n",
       "Churn                object\n",
       "dtype: object"
      ]
     },
     "execution_count": 16,
     "metadata": {},
     "output_type": "execute_result"
    }
   ],
   "source": [
    "\n",
    "import matplotlib.pyplot as plt\n",
    "from matplotlib.ticker import StrMethodFormatter\n",
    "\n",
    "churnDataFrame.dtypes"
   ]
  },
  {
   "cell_type": "code",
   "execution_count": 17,
   "metadata": {},
   "outputs": [
    {
     "data": {
      "text/plain": [
       "Text(0.5, 0, 'Charges')"
      ]
     },
     "execution_count": 17,
     "metadata": {},
     "output_type": "execute_result"
    },
    {
     "data": {
      "image/png": "[encoded data removed]",
      "text/plain": [
       "<Figure size 1080x360 with 1 Axes>"
      ]
     },
     "metadata": {
      "needs_background": "light"
     },
     "output_type": "display_data"
    }
   ],
   "source": [
    "churnDataFrame.hist(column = 'MonthlyCharges', grid = False, edgecolor = 'k', figsize = (15,5))\n",
    "plt.title('Monthly Charges')\n",
    "plt.ylabel('Customer Count')\n",
    "plt.xlabel('Charges')"
   ]
  },
  {
   "cell_type": "code",
   "execution_count": 18,
   "metadata": {},
   "outputs": [
    {
     "data": {
      "text/plain": [
       "Text(0.5, 0, 'Months with Telco')"
      ]
     },
     "execution_count": 18,
     "metadata": {},
     "output_type": "execute_result"
    },
    {
     "data": {
      "image/png": "[encoded data removed]",
      "text/plain": [
       "<Figure size 1080x360 with 1 Axes>"
      ]
     },
     "metadata": {
      "needs_background": "light"
     },
     "output_type": "display_data"
    }
   ],
   "source": [
    "churnDataFrame.hist(column = 'tenure', grid = False, edgecolor = 'k', figsize = (15,5))\n",
    "plt.title('Customer Tenure')\n",
    "plt.ylabel('Customer Count')\n",
    "plt.xlabel('Months with Telco')"
   ]
  },
  {
   "cell_type": "code",
   "execution_count": 19,
   "metadata": {},
   "outputs": [
    {
     "data": {
      "text/plain": [
       "Text(0.5, 0, 'Total Charge to Customer')"
      ]
     },
     "execution_count": 19,
     "metadata": {},
     "output_type": "execute_result"
    },
    {
     "data": {
      "image/png": "[encoded data removed]",
      "text/plain": [
       "<Figure size 1080x360 with 1 Axes>"
      ]
     },
     "metadata": {
      "needs_background": "light"
     },
     "output_type": "display_data"
    }
   ],
   "source": [
    "churnDataFrame.hist(column = 'TotalCharges', grid = False, edgecolor = 'k', figsize = (15,5))\n",
    "plt.title('Total Charges')\n",
    "plt.ylabel('Customer Count')\n",
    "plt.xlabel('Total Charge to Customer')"
   ]
  },
  {
   "cell_type": "code",
   "execution_count": 35,
   "metadata": {},
   "outputs": [
    {
     "ename": "NameError",
     "evalue": "name 'x1' is not defined",
     "output_type": "error",
     "traceback": [
      "\u001b[1;31m---------------------------------------------------------------------------\u001b[0m",
      "\u001b[1;31mNameError\u001b[0m                                 Traceback (most recent call last)",
      "\u001b[1;32m<ipython-input-35-bcc2c7ee043a>\u001b[0m in \u001b[0;36m<module>\u001b[1;34m\u001b[0m\n\u001b[1;32m----> 1\u001b[1;33m \u001b[0mx\u001b[0m\u001b[1;33m=\u001b[0m\u001b[0msm\u001b[0m\u001b[1;33m.\u001b[0m\u001b[0madd_constant\u001b[0m\u001b[1;33m(\u001b[0m\u001b[0mx1\u001b[0m\u001b[1;33m)\u001b[0m\u001b[1;33m\u001b[0m\u001b[1;33m\u001b[0m\u001b[0m\n\u001b[0m\u001b[0;32m      2\u001b[0m \u001b[0mresults\u001b[0m\u001b[1;33m=\u001b[0m\u001b[0msm\u001b[0m\u001b[1;33m.\u001b[0m\u001b[0mOLS\u001b[0m\u001b[1;33m(\u001b[0m\u001b[0my\u001b[0m\u001b[1;33m,\u001b[0m\u001b[0mx\u001b[0m\u001b[1;33m)\u001b[0m\u001b[1;33m.\u001b[0m\u001b[0mfit\u001b[0m\u001b[1;33m(\u001b[0m\u001b[1;33m)\u001b[0m\u001b[1;33m\u001b[0m\u001b[1;33m\u001b[0m\u001b[0m\n\u001b[0;32m      3\u001b[0m \u001b[0mresults\u001b[0m\u001b[1;33m.\u001b[0m\u001b[0msummary\u001b[0m\u001b[1;33m(\u001b[0m\u001b[1;33m)\u001b[0m\u001b[1;33m\u001b[0m\u001b[1;33m\u001b[0m\u001b[0m\n",
      "\u001b[1;31mNameError\u001b[0m: name 'x1' is not defined"
     ]
    }
   ],
   "source": []
  },
  {
   "cell_type": "code",
   "execution_count": 45,
   "metadata": {},
   "outputs": [
    {
     "ename": "KeyError",
     "evalue": "'Total Charges'",
     "output_type": "error",
     "traceback": [
      "\u001b[1;31m---------------------------------------------------------------------------\u001b[0m",
      "\u001b[1;31mKeyError\u001b[0m                                  Traceback (most recent call last)",
      "\u001b[1;32m~\\anaconda3\\lib\\site-packages\\pandas\\core\\indexes\\base.py\u001b[0m in \u001b[0;36mget_loc\u001b[1;34m(self, key, method, tolerance)\u001b[0m\n\u001b[0;32m   2645\u001b[0m             \u001b[1;32mtry\u001b[0m\u001b[1;33m:\u001b[0m\u001b[1;33m\u001b[0m\u001b[1;33m\u001b[0m\u001b[0m\n\u001b[1;32m-> 2646\u001b[1;33m                 \u001b[1;32mreturn\u001b[0m \u001b[0mself\u001b[0m\u001b[1;33m.\u001b[0m\u001b[0m_engine\u001b[0m\u001b[1;33m.\u001b[0m\u001b[0mget_loc\u001b[0m\u001b[1;33m(\u001b[0m\u001b[0mkey\u001b[0m\u001b[1;33m)\u001b[0m\u001b[1;33m\u001b[0m\u001b[1;33m\u001b[0m\u001b[0m\n\u001b[0m\u001b[0;32m   2647\u001b[0m             \u001b[1;32mexcept\u001b[0m \u001b[0mKeyError\u001b[0m\u001b[1;33m:\u001b[0m\u001b[1;33m\u001b[0m\u001b[1;33m\u001b[0m\u001b[0m\n",
      "\u001b[1;32mpandas\\_libs\\index.pyx\u001b[0m in \u001b[0;36mpandas._libs.index.IndexEngine.get_loc\u001b[1;34m()\u001b[0m\n",
      "\u001b[1;32mpandas\\_libs\\index.pyx\u001b[0m in \u001b[0;36mpandas._libs.index.IndexEngine.get_loc\u001b[1;34m()\u001b[0m\n",
      "\u001b[1;32mpandas\\_libs\\hashtable_class_helper.pxi\u001b[0m in \u001b[0;36mpandas._libs.hashtable.PyObjectHashTable.get_item\u001b[1;34m()\u001b[0m\n",
      "\u001b[1;32mpandas\\_libs\\hashtable_class_helper.pxi\u001b[0m in \u001b[0;36mpandas._libs.hashtable.PyObjectHashTable.get_item\u001b[1;34m()\u001b[0m\n",
      "\u001b[1;31mKeyError\u001b[0m: 'Total Charges'",
      "\nDuring handling of the above exception, another exception occurred:\n",
      "\u001b[1;31mKeyError\u001b[0m                                  Traceback (most recent call last)",
      "\u001b[1;32m<ipython-input-45-126dbf1bbd97>\u001b[0m in \u001b[0;36m<module>\u001b[1;34m\u001b[0m\n\u001b[0;32m      1\u001b[0m \u001b[0my\u001b[0m\u001b[1;33m=\u001b[0m\u001b[0mchurnDataFrame\u001b[0m\u001b[1;33m[\u001b[0m\u001b[1;34m'Churn'\u001b[0m\u001b[1;33m]\u001b[0m\u001b[1;33m\u001b[0m\u001b[1;33m\u001b[0m\u001b[0m\n\u001b[1;32m----> 2\u001b[1;33m \u001b[0mx1\u001b[0m\u001b[1;33m=\u001b[0m\u001b[0mchurnDataFrame\u001b[0m\u001b[1;33m[\u001b[0m\u001b[1;34m'Total Charges'\u001b[0m\u001b[1;33m]\u001b[0m\u001b[1;33m\u001b[0m\u001b[1;33m\u001b[0m\u001b[0m\n\u001b[0m",
      "\u001b[1;32m~\\anaconda3\\lib\\site-packages\\pandas\\core\\frame.py\u001b[0m in \u001b[0;36m__getitem__\u001b[1;34m(self, key)\u001b[0m\n\u001b[0;32m   2798\u001b[0m             \u001b[1;32mif\u001b[0m \u001b[0mself\u001b[0m\u001b[1;33m.\u001b[0m\u001b[0mcolumns\u001b[0m\u001b[1;33m.\u001b[0m\u001b[0mnlevels\u001b[0m \u001b[1;33m>\u001b[0m \u001b[1;36m1\u001b[0m\u001b[1;33m:\u001b[0m\u001b[1;33m\u001b[0m\u001b[1;33m\u001b[0m\u001b[0m\n\u001b[0;32m   2799\u001b[0m                 \u001b[1;32mreturn\u001b[0m \u001b[0mself\u001b[0m\u001b[1;33m.\u001b[0m\u001b[0m_getitem_multilevel\u001b[0m\u001b[1;33m(\u001b[0m\u001b[0mkey\u001b[0m\u001b[1;33m)\u001b[0m\u001b[1;33m\u001b[0m\u001b[1;33m\u001b[0m\u001b[0m\n\u001b[1;32m-> 2800\u001b[1;33m             \u001b[0mindexer\u001b[0m \u001b[1;33m=\u001b[0m \u001b[0mself\u001b[0m\u001b[1;33m.\u001b[0m\u001b[0mcolumns\u001b[0m\u001b[1;33m.\u001b[0m\u001b[0mget_loc\u001b[0m\u001b[1;33m(\u001b[0m\u001b[0mkey\u001b[0m\u001b[1;33m)\u001b[0m\u001b[1;33m\u001b[0m\u001b[1;33m\u001b[0m\u001b[0m\n\u001b[0m\u001b[0;32m   2801\u001b[0m             \u001b[1;32mif\u001b[0m \u001b[0mis_integer\u001b[0m\u001b[1;33m(\u001b[0m\u001b[0mindexer\u001b[0m\u001b[1;33m)\u001b[0m\u001b[1;33m:\u001b[0m\u001b[1;33m\u001b[0m\u001b[1;33m\u001b[0m\u001b[0m\n\u001b[0;32m   2802\u001b[0m                 \u001b[0mindexer\u001b[0m \u001b[1;33m=\u001b[0m \u001b[1;33m[\u001b[0m\u001b[0mindexer\u001b[0m\u001b[1;33m]\u001b[0m\u001b[1;33m\u001b[0m\u001b[1;33m\u001b[0m\u001b[0m\n",
      "\u001b[1;32m~\\anaconda3\\lib\\site-packages\\pandas\\core\\indexes\\base.py\u001b[0m in \u001b[0;36mget_loc\u001b[1;34m(self, key, method, tolerance)\u001b[0m\n\u001b[0;32m   2646\u001b[0m                 \u001b[1;32mreturn\u001b[0m \u001b[0mself\u001b[0m\u001b[1;33m.\u001b[0m\u001b[0m_engine\u001b[0m\u001b[1;33m.\u001b[0m\u001b[0mget_loc\u001b[0m\u001b[1;33m(\u001b[0m\u001b[0mkey\u001b[0m\u001b[1;33m)\u001b[0m\u001b[1;33m\u001b[0m\u001b[1;33m\u001b[0m\u001b[0m\n\u001b[0;32m   2647\u001b[0m             \u001b[1;32mexcept\u001b[0m \u001b[0mKeyError\u001b[0m\u001b[1;33m:\u001b[0m\u001b[1;33m\u001b[0m\u001b[1;33m\u001b[0m\u001b[0m\n\u001b[1;32m-> 2648\u001b[1;33m                 \u001b[1;32mreturn\u001b[0m \u001b[0mself\u001b[0m\u001b[1;33m.\u001b[0m\u001b[0m_engine\u001b[0m\u001b[1;33m.\u001b[0m\u001b[0mget_loc\u001b[0m\u001b[1;33m(\u001b[0m\u001b[0mself\u001b[0m\u001b[1;33m.\u001b[0m\u001b[0m_maybe_cast_indexer\u001b[0m\u001b[1;33m(\u001b[0m\u001b[0mkey\u001b[0m\u001b[1;33m)\u001b[0m\u001b[1;33m)\u001b[0m\u001b[1;33m\u001b[0m\u001b[1;33m\u001b[0m\u001b[0m\n\u001b[0m\u001b[0;32m   2649\u001b[0m         \u001b[0mindexer\u001b[0m \u001b[1;33m=\u001b[0m \u001b[0mself\u001b[0m\u001b[1;33m.\u001b[0m\u001b[0mget_indexer\u001b[0m\u001b[1;33m(\u001b[0m\u001b[1;33m[\u001b[0m\u001b[0mkey\u001b[0m\u001b[1;33m]\u001b[0m\u001b[1;33m,\u001b[0m \u001b[0mmethod\u001b[0m\u001b[1;33m=\u001b[0m\u001b[0mmethod\u001b[0m\u001b[1;33m,\u001b[0m \u001b[0mtolerance\u001b[0m\u001b[1;33m=\u001b[0m\u001b[0mtolerance\u001b[0m\u001b[1;33m)\u001b[0m\u001b[1;33m\u001b[0m\u001b[1;33m\u001b[0m\u001b[0m\n\u001b[0;32m   2650\u001b[0m         \u001b[1;32mif\u001b[0m \u001b[0mindexer\u001b[0m\u001b[1;33m.\u001b[0m\u001b[0mndim\u001b[0m \u001b[1;33m>\u001b[0m \u001b[1;36m1\u001b[0m \u001b[1;32mor\u001b[0m \u001b[0mindexer\u001b[0m\u001b[1;33m.\u001b[0m\u001b[0msize\u001b[0m \u001b[1;33m>\u001b[0m \u001b[1;36m1\u001b[0m\u001b[1;33m:\u001b[0m\u001b[1;33m\u001b[0m\u001b[1;33m\u001b[0m\u001b[0m\n",
      "\u001b[1;32mpandas\\_libs\\index.pyx\u001b[0m in \u001b[0;36mpandas._libs.index.IndexEngine.get_loc\u001b[1;34m()\u001b[0m\n",
      "\u001b[1;32mpandas\\_libs\\index.pyx\u001b[0m in \u001b[0;36mpandas._libs.index.IndexEngine.get_loc\u001b[1;34m()\u001b[0m\n",
      "\u001b[1;32mpandas\\_libs\\hashtable_class_helper.pxi\u001b[0m in \u001b[0;36mpandas._libs.hashtable.PyObjectHashTable.get_item\u001b[1;34m()\u001b[0m\n",
      "\u001b[1;32mpandas\\_libs\\hashtable_class_helper.pxi\u001b[0m in \u001b[0;36mpandas._libs.hashtable.PyObjectHashTable.get_item\u001b[1;34m()\u001b[0m\n",
      "\u001b[1;31mKeyError\u001b[0m: 'Total Charges'"
     ]
    }
   ],
   "source": [
    "y=churnDataFrame['Churn']\n",
    "x1=churnDataFrame[['Total Charges',''"
   ]
  },
  {
   "cell_type": "code",
   "execution_count": 43,
   "metadata": {},
   "outputs": [
    {
     "ename": "TypeError",
     "evalue": "cannot perform reduce with flexible type",
     "output_type": "error",
     "traceback": [
      "\u001b[1;31m---------------------------------------------------------------------------\u001b[0m",
      "\u001b[1;31mTypeError\u001b[0m                                 Traceback (most recent call last)",
      "\u001b[1;32m<ipython-input-43-bcc2c7ee043a>\u001b[0m in \u001b[0;36m<module>\u001b[1;34m\u001b[0m\n\u001b[1;32m----> 1\u001b[1;33m \u001b[0mx\u001b[0m\u001b[1;33m=\u001b[0m\u001b[0msm\u001b[0m\u001b[1;33m.\u001b[0m\u001b[0madd_constant\u001b[0m\u001b[1;33m(\u001b[0m\u001b[0mx1\u001b[0m\u001b[1;33m)\u001b[0m\u001b[1;33m\u001b[0m\u001b[1;33m\u001b[0m\u001b[0m\n\u001b[0m\u001b[0;32m      2\u001b[0m \u001b[0mresults\u001b[0m\u001b[1;33m=\u001b[0m\u001b[0msm\u001b[0m\u001b[1;33m.\u001b[0m\u001b[0mOLS\u001b[0m\u001b[1;33m(\u001b[0m\u001b[0my\u001b[0m\u001b[1;33m,\u001b[0m\u001b[0mx\u001b[0m\u001b[1;33m)\u001b[0m\u001b[1;33m.\u001b[0m\u001b[0mfit\u001b[0m\u001b[1;33m(\u001b[0m\u001b[1;33m)\u001b[0m\u001b[1;33m\u001b[0m\u001b[1;33m\u001b[0m\u001b[0m\n\u001b[0;32m      3\u001b[0m \u001b[0mresults\u001b[0m\u001b[1;33m.\u001b[0m\u001b[0msummary\u001b[0m\u001b[1;33m(\u001b[0m\u001b[1;33m)\u001b[0m\u001b[1;33m\u001b[0m\u001b[1;33m\u001b[0m\u001b[0m\n",
      "\u001b[1;32m~\\anaconda3\\lib\\site-packages\\statsmodels\\tools\\tools.py\u001b[0m in \u001b[0;36madd_constant\u001b[1;34m(data, prepend, has_constant)\u001b[0m\n\u001b[0;32m    323\u001b[0m         \u001b[1;32mraise\u001b[0m \u001b[0mValueError\u001b[0m\u001b[1;33m(\u001b[0m\u001b[1;34m'Only implemented for 2-dimensional arrays'\u001b[0m\u001b[1;33m)\u001b[0m\u001b[1;33m\u001b[0m\u001b[1;33m\u001b[0m\u001b[0m\n\u001b[0;32m    324\u001b[0m \u001b[1;33m\u001b[0m\u001b[0m\n\u001b[1;32m--> 325\u001b[1;33m     \u001b[0mis_nonzero_const\u001b[0m \u001b[1;33m=\u001b[0m \u001b[0mnp\u001b[0m\u001b[1;33m.\u001b[0m\u001b[0mptp\u001b[0m\u001b[1;33m(\u001b[0m\u001b[0mx\u001b[0m\u001b[1;33m,\u001b[0m \u001b[0maxis\u001b[0m\u001b[1;33m=\u001b[0m\u001b[1;36m0\u001b[0m\u001b[1;33m)\u001b[0m \u001b[1;33m==\u001b[0m \u001b[1;36m0\u001b[0m\u001b[1;33m\u001b[0m\u001b[1;33m\u001b[0m\u001b[0m\n\u001b[0m\u001b[0;32m    326\u001b[0m     \u001b[0mis_nonzero_const\u001b[0m \u001b[1;33m&=\u001b[0m \u001b[0mnp\u001b[0m\u001b[1;33m.\u001b[0m\u001b[0mall\u001b[0m\u001b[1;33m(\u001b[0m\u001b[0mx\u001b[0m \u001b[1;33m!=\u001b[0m \u001b[1;36m0.0\u001b[0m\u001b[1;33m,\u001b[0m \u001b[0maxis\u001b[0m\u001b[1;33m=\u001b[0m\u001b[1;36m0\u001b[0m\u001b[1;33m)\u001b[0m\u001b[1;33m\u001b[0m\u001b[1;33m\u001b[0m\u001b[0m\n\u001b[0;32m    327\u001b[0m     \u001b[1;32mif\u001b[0m \u001b[0mis_nonzero_const\u001b[0m\u001b[1;33m.\u001b[0m\u001b[0many\u001b[0m\u001b[1;33m(\u001b[0m\u001b[1;33m)\u001b[0m\u001b[1;33m:\u001b[0m\u001b[1;33m\u001b[0m\u001b[1;33m\u001b[0m\u001b[0m\n",
      "\u001b[1;32m<__array_function__ internals>\u001b[0m in \u001b[0;36mptp\u001b[1;34m(*args, **kwargs)\u001b[0m\n",
      "\u001b[1;32m~\\anaconda3\\lib\\site-packages\\numpy\\core\\fromnumeric.py\u001b[0m in \u001b[0;36mptp\u001b[1;34m(a, axis, out, keepdims)\u001b[0m\n\u001b[0;32m   2541\u001b[0m         \u001b[1;32melse\u001b[0m\u001b[1;33m:\u001b[0m\u001b[1;33m\u001b[0m\u001b[1;33m\u001b[0m\u001b[0m\n\u001b[0;32m   2542\u001b[0m             \u001b[1;32mreturn\u001b[0m \u001b[0mptp\u001b[0m\u001b[1;33m(\u001b[0m\u001b[0maxis\u001b[0m\u001b[1;33m=\u001b[0m\u001b[0maxis\u001b[0m\u001b[1;33m,\u001b[0m \u001b[0mout\u001b[0m\u001b[1;33m=\u001b[0m\u001b[0mout\u001b[0m\u001b[1;33m,\u001b[0m \u001b[1;33m**\u001b[0m\u001b[0mkwargs\u001b[0m\u001b[1;33m)\u001b[0m\u001b[1;33m\u001b[0m\u001b[1;33m\u001b[0m\u001b[0m\n\u001b[1;32m-> 2543\u001b[1;33m     \u001b[1;32mreturn\u001b[0m \u001b[0m_methods\u001b[0m\u001b[1;33m.\u001b[0m\u001b[0m_ptp\u001b[0m\u001b[1;33m(\u001b[0m\u001b[0ma\u001b[0m\u001b[1;33m,\u001b[0m \u001b[0maxis\u001b[0m\u001b[1;33m=\u001b[0m\u001b[0maxis\u001b[0m\u001b[1;33m,\u001b[0m \u001b[0mout\u001b[0m\u001b[1;33m=\u001b[0m\u001b[0mout\u001b[0m\u001b[1;33m,\u001b[0m \u001b[1;33m**\u001b[0m\u001b[0mkwargs\u001b[0m\u001b[1;33m)\u001b[0m\u001b[1;33m\u001b[0m\u001b[1;33m\u001b[0m\u001b[0m\n\u001b[0m\u001b[0;32m   2544\u001b[0m \u001b[1;33m\u001b[0m\u001b[0m\n\u001b[0;32m   2545\u001b[0m \u001b[1;33m\u001b[0m\u001b[0m\n",
      "\u001b[1;32m~\\anaconda3\\lib\\site-packages\\numpy\\core\\_methods.py\u001b[0m in \u001b[0;36m_ptp\u001b[1;34m(a, axis, out, keepdims)\u001b[0m\n\u001b[0;32m    228\u001b[0m \u001b[1;32mdef\u001b[0m \u001b[0m_ptp\u001b[0m\u001b[1;33m(\u001b[0m\u001b[0ma\u001b[0m\u001b[1;33m,\u001b[0m \u001b[0maxis\u001b[0m\u001b[1;33m=\u001b[0m\u001b[1;32mNone\u001b[0m\u001b[1;33m,\u001b[0m \u001b[0mout\u001b[0m\u001b[1;33m=\u001b[0m\u001b[1;32mNone\u001b[0m\u001b[1;33m,\u001b[0m \u001b[0mkeepdims\u001b[0m\u001b[1;33m=\u001b[0m\u001b[1;32mFalse\u001b[0m\u001b[1;33m)\u001b[0m\u001b[1;33m:\u001b[0m\u001b[1;33m\u001b[0m\u001b[1;33m\u001b[0m\u001b[0m\n\u001b[0;32m    229\u001b[0m     return um.subtract(\n\u001b[1;32m--> 230\u001b[1;33m         \u001b[0mumr_maximum\u001b[0m\u001b[1;33m(\u001b[0m\u001b[0ma\u001b[0m\u001b[1;33m,\u001b[0m \u001b[0maxis\u001b[0m\u001b[1;33m,\u001b[0m \u001b[1;32mNone\u001b[0m\u001b[1;33m,\u001b[0m \u001b[0mout\u001b[0m\u001b[1;33m,\u001b[0m \u001b[0mkeepdims\u001b[0m\u001b[1;33m)\u001b[0m\u001b[1;33m,\u001b[0m\u001b[1;33m\u001b[0m\u001b[1;33m\u001b[0m\u001b[0m\n\u001b[0m\u001b[0;32m    231\u001b[0m         \u001b[0mumr_minimum\u001b[0m\u001b[1;33m(\u001b[0m\u001b[0ma\u001b[0m\u001b[1;33m,\u001b[0m \u001b[0maxis\u001b[0m\u001b[1;33m,\u001b[0m \u001b[1;32mNone\u001b[0m\u001b[1;33m,\u001b[0m \u001b[1;32mNone\u001b[0m\u001b[1;33m,\u001b[0m \u001b[0mkeepdims\u001b[0m\u001b[1;33m)\u001b[0m\u001b[1;33m,\u001b[0m\u001b[1;33m\u001b[0m\u001b[1;33m\u001b[0m\u001b[0m\n\u001b[0;32m    232\u001b[0m         \u001b[0mout\u001b[0m\u001b[1;33m\u001b[0m\u001b[1;33m\u001b[0m\u001b[0m\n",
      "\u001b[1;31mTypeError\u001b[0m: cannot perform reduce with flexible type"
     ]
    }
   ],
   "source": [
    "x=sm.add_constant(x1)\n",
    "results=sm.OLS(y,x).fit()\n",
    "results.summary()"
   ]
  },
  {
   "cell_type": "code",
   "execution_count": null,
   "metadata": {},
   "outputs": [],
   "source": []
  }
 ],
 "metadata": {
  "kernelspec": {
   "display_name": "Python 3",
   "language": "python",
   "name": "python3"
  },
  "language_info": {
   "codemirror_mode": {
    "name": "ipython",
    "version": 3
   },
   "file_extension": ".py",
   "mimetype": "text/x-python",
   "name": "python",
   "nbconvert_exporter": "python",
   "pygments_lexer": "ipython3",
   "version": "3.8.3"
  }
 },
 "nbformat": 4,
 "nbformat_minor": 4
}
